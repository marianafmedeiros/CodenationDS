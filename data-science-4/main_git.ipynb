{
 "cells": [
  {
   "cell_type": "markdown",
   "metadata": {},
   "source": [
    "# Desafio 6\n",
    "\n",
    "Neste desafio, vamos praticar _feature engineering_, um dos processos mais importantes e trabalhosos de ML. Utilizaremos o _data set_ [Countries of the world](https://www.kaggle.com/fernandol/countries-of-the-world), que contém dados sobre os 227 países do mundo com informações sobre tamanho da população, área, imigração e setores de produção.\n",
    "\n",
    "> Obs.: Por favor, não modifique o nome das funções de resposta."
   ]
  },
  {
   "cell_type": "markdown",
   "metadata": {},
   "source": [
    "## _Setup_ geral"
   ]
  },
  {
   "cell_type": "code",
   "execution_count": 1,
   "metadata": {},
   "outputs": [],
   "source": [
    "import pandas as pd\n",
    "import numpy as np\n",
    "import seaborn as sns\n",
    "import sklearn as sk\n",
    "from sklearn.impute import SimpleImputer\n",
    "from sklearn.pipeline import Pipeline\n",
    "from sklearn.preprocessing import (\n",
    "    OneHotEncoder, Binarizer, KBinsDiscretizer,\n",
    "    MinMaxScaler, StandardScaler, PolynomialFeatures\n",
    ")\n",
    "from sklearn.compose import (make_column_selector, ColumnTransformer)\n",
    "from sklearn.datasets import fetch_20newsgroups\n",
    "from sklearn.feature_extraction.text import (CountVectorizer, TfidfTransformer, TfidfVectorizer) \n"
   ]
  },
  {
   "cell_type": "code",
   "execution_count": 2,
   "metadata": {},
   "outputs": [],
   "source": [
    "# Algumas configurações para o matplotlib.\n",
    "%matplotlib inline\n",
    "\n",
    "from IPython.core.pylabtools import figsize\n",
    "\n",
    "\n",
    "figsize(12, 8)\n",
    "\n",
    "sns.set()"
   ]
  },
  {
   "cell_type": "code",
   "execution_count": 3,
   "metadata": {
    "scrolled": false
   },
   "outputs": [],
   "source": [
    "countries = pd.read_csv(\"countries.csv\")"
   ]
  },
  {
   "cell_type": "code",
   "execution_count": null,
   "metadata": {},
   "outputs": [],
   "source": []
  },
  {
   "cell_type": "code",
   "execution_count": 4,
   "metadata": {},
   "outputs": [
    {
     "output_type": "execute_result",
     "data": {
      "text/plain": "           Country                               Region  Population     Area  \\\n0     Afghanistan         ASIA (EX. NEAR EAST)             31056997   647500   \n1         Albania   EASTERN EUROPE                          3581655    28748   \n2         Algeria   NORTHERN AFRICA                        32930091  2381740   \n3  American Samoa   OCEANIA                                   57794      199   \n4         Andorra   WESTERN EUROPE                            71201      468   \n\n  Pop_density Coastline_ratio Net_migration Infant_mortality      GDP  \\\n0        48,0            0,00         23,06           163,07    700.0   \n1       124,6            1,26         -4,93            21,52   4500.0   \n2        13,8            0,04         -0,39               31   6000.0   \n3       290,4           58,29        -20,71             9,27   8000.0   \n4       152,1            0,00           6,6             4,05  19000.0   \n\n  Literacy Phones_per_1000 Arable Crops  Other Climate Birthrate Deathrate  \\\n0     36,0             3,2  12,13  0,22  87,65       1      46,6     20,34   \n1     86,5            71,2  21,09  4,42  74,49       3     15,11      5,22   \n2     70,0            78,1   3,22  0,25  96,53       1     17,14      4,61   \n3     97,0           259,5     10    15     75       2     22,46      3,27   \n4    100,0           497,2   2,22     0  97,78       3      8,71      6,25   \n\n  Agriculture Industry Service  \n0        0,38     0,24    0,38  \n1       0,232    0,188   0,579  \n2       0,101      0,6   0,298  \n3         NaN      NaN     NaN  \n4         NaN      NaN     NaN  ",
      "text/html": "<div>\n<style scoped>\n    .dataframe tbody tr th:only-of-type {\n        vertical-align: middle;\n    }\n\n    .dataframe tbody tr th {\n        vertical-align: top;\n    }\n\n    .dataframe thead th {\n        text-align: right;\n    }\n</style>\n<table border=\"1\" class=\"dataframe\">\n  <thead>\n    <tr style=\"text-align: right;\">\n      <th></th>\n      <th>Country</th>\n      <th>Region</th>\n      <th>Population</th>\n      <th>Area</th>\n      <th>Pop_density</th>\n      <th>Coastline_ratio</th>\n      <th>Net_migration</th>\n      <th>Infant_mortality</th>\n      <th>GDP</th>\n      <th>Literacy</th>\n      <th>Phones_per_1000</th>\n      <th>Arable</th>\n      <th>Crops</th>\n      <th>Other</th>\n      <th>Climate</th>\n      <th>Birthrate</th>\n      <th>Deathrate</th>\n      <th>Agriculture</th>\n      <th>Industry</th>\n      <th>Service</th>\n    </tr>\n  </thead>\n  <tbody>\n    <tr>\n      <th>0</th>\n      <td>Afghanistan</td>\n      <td>ASIA (EX. NEAR EAST)</td>\n      <td>31056997</td>\n      <td>647500</td>\n      <td>48,0</td>\n      <td>0,00</td>\n      <td>23,06</td>\n      <td>163,07</td>\n      <td>700.0</td>\n      <td>36,0</td>\n      <td>3,2</td>\n      <td>12,13</td>\n      <td>0,22</td>\n      <td>87,65</td>\n      <td>1</td>\n      <td>46,6</td>\n      <td>20,34</td>\n      <td>0,38</td>\n      <td>0,24</td>\n      <td>0,38</td>\n    </tr>\n    <tr>\n      <th>1</th>\n      <td>Albania</td>\n      <td>EASTERN EUROPE</td>\n      <td>3581655</td>\n      <td>28748</td>\n      <td>124,6</td>\n      <td>1,26</td>\n      <td>-4,93</td>\n      <td>21,52</td>\n      <td>4500.0</td>\n      <td>86,5</td>\n      <td>71,2</td>\n      <td>21,09</td>\n      <td>4,42</td>\n      <td>74,49</td>\n      <td>3</td>\n      <td>15,11</td>\n      <td>5,22</td>\n      <td>0,232</td>\n      <td>0,188</td>\n      <td>0,579</td>\n    </tr>\n    <tr>\n      <th>2</th>\n      <td>Algeria</td>\n      <td>NORTHERN AFRICA</td>\n      <td>32930091</td>\n      <td>2381740</td>\n      <td>13,8</td>\n      <td>0,04</td>\n      <td>-0,39</td>\n      <td>31</td>\n      <td>6000.0</td>\n      <td>70,0</td>\n      <td>78,1</td>\n      <td>3,22</td>\n      <td>0,25</td>\n      <td>96,53</td>\n      <td>1</td>\n      <td>17,14</td>\n      <td>4,61</td>\n      <td>0,101</td>\n      <td>0,6</td>\n      <td>0,298</td>\n    </tr>\n    <tr>\n      <th>3</th>\n      <td>American Samoa</td>\n      <td>OCEANIA</td>\n      <td>57794</td>\n      <td>199</td>\n      <td>290,4</td>\n      <td>58,29</td>\n      <td>-20,71</td>\n      <td>9,27</td>\n      <td>8000.0</td>\n      <td>97,0</td>\n      <td>259,5</td>\n      <td>10</td>\n      <td>15</td>\n      <td>75</td>\n      <td>2</td>\n      <td>22,46</td>\n      <td>3,27</td>\n      <td>NaN</td>\n      <td>NaN</td>\n      <td>NaN</td>\n    </tr>\n    <tr>\n      <th>4</th>\n      <td>Andorra</td>\n      <td>WESTERN EUROPE</td>\n      <td>71201</td>\n      <td>468</td>\n      <td>152,1</td>\n      <td>0,00</td>\n      <td>6,6</td>\n      <td>4,05</td>\n      <td>19000.0</td>\n      <td>100,0</td>\n      <td>497,2</td>\n      <td>2,22</td>\n      <td>0</td>\n      <td>97,78</td>\n      <td>3</td>\n      <td>8,71</td>\n      <td>6,25</td>\n      <td>NaN</td>\n      <td>NaN</td>\n      <td>NaN</td>\n    </tr>\n  </tbody>\n</table>\n</div>"
     },
     "metadata": {},
     "execution_count": 4
    }
   ],
   "source": [
    "new_column_names = [\n",
    "    \"Country\", \"Region\", \"Population\", \"Area\", \"Pop_density\", \"Coastline_ratio\",\n",
    "    \"Net_migration\", \"Infant_mortality\", \"GDP\", \"Literacy\", \"Phones_per_1000\",\n",
    "    \"Arable\", \"Crops\", \"Other\", \"Climate\", \"Birthrate\", \"Deathrate\", \"Agriculture\",\n",
    "    \"Industry\", \"Service\"\n",
    "]\n",
    "\n",
    "countries.columns = new_column_names\n",
    "\n",
    "countries.head(5)"
   ]
  },
  {
   "cell_type": "markdown",
   "metadata": {},
   "source": [
    "## Observações\n",
    "\n",
    "Esse _data set_ ainda precisa de alguns ajustes iniciais. Primeiro, note que as variáveis numéricas estão usando vírgula como separador decimal e estão codificadas como strings. Corrija isso antes de continuar: transforme essas variáveis em numéricas adequadamente.\n",
    "\n",
    "Além disso, as variáveis `Country` e `Region` possuem espaços a mais no começo e no final da string. Você pode utilizar o método `str.strip()` para remover esses espaços."
   ]
  },
  {
   "cell_type": "markdown",
   "metadata": {},
   "source": [
    "## Inicia sua análise a partir daqui"
   ]
  },
  {
   "cell_type": "code",
   "execution_count": 5,
   "metadata": {},
   "outputs": [
    {
     "output_type": "stream",
     "name": "stdout",
     "text": "<class 'pandas.core.frame.DataFrame'>\nRangeIndex: 227 entries, 0 to 226\nData columns (total 20 columns):\nCountry             227 non-null object\nRegion              227 non-null object\nPopulation          227 non-null int64\nArea                227 non-null int64\nPop_density         227 non-null float64\nCoastline_ratio     227 non-null float64\nNet_migration       224 non-null float64\nInfant_mortality    224 non-null float64\nGDP                 226 non-null float64\nLiteracy            209 non-null float64\nPhones_per_1000     223 non-null float64\nArable              225 non-null float64\nCrops               225 non-null float64\nOther               225 non-null float64\nClimate             205 non-null float64\nBirthrate           224 non-null float64\nDeathrate           223 non-null float64\nAgriculture         212 non-null float64\nIndustry            211 non-null float64\nService             212 non-null float64\ndtypes: float64(16), int64(2), object(2)\nmemory usage: 35.5+ KB\n"
    }
   ],
   "source": [
    "# Ajustando colunas numéricas\n",
    "str_to_num_columns = ['Pop_density', 'Coastline_ratio', 'Net_migration', 'Infant_mortality', 'Literacy', 'Phones_per_1000', 'Arable', 'Crops', 'Other', 'Birthrate', 'Deathrate', 'Agriculture', 'Industry', 'Service', 'Climate']\n",
    "\n",
    "if countries['Pop_density'].dtype != 'float64':\n",
    "    countries[str_to_num_columns] = countries[str_to_num_columns].apply(lambda column: pd.to_numeric(column.str.replace(',', '.')))\n",
    "# (countries.dtypes != \"object\").reset_index()\n",
    "countries.info()"
   ]
  },
  {
   "cell_type": "code",
   "execution_count": 27,
   "metadata": {},
   "outputs": [
    {
     "output_type": "execute_result",
     "data": {
      "text/plain": "          Country                Region  Population     Area  Pop_density  \\\n0     Afghanistan  ASIA (EX. NEAR EAST)    31056997   647500         48.0   \n1         Albania        EASTERN EUROPE     3581655    28748        124.6   \n2         Algeria       NORTHERN AFRICA    32930091  2381740         13.8   \n3  American Samoa               OCEANIA       57794      199        290.4   \n4         Andorra        WESTERN EUROPE       71201      468        152.1   \n\n   Coastline_ratio  Net_migration  Infant_mortality      GDP  Literacy  \\\n0             0.00          23.06            163.07    700.0      36.0   \n1             1.26          -4.93             21.52   4500.0      86.5   \n2             0.04          -0.39             31.00   6000.0      70.0   \n3            58.29         -20.71              9.27   8000.0      97.0   \n4             0.00           6.60              4.05  19000.0     100.0   \n\n   Phones_per_1000  Arable  Crops  Other  Climate  Birthrate  Deathrate  \\\n0              3.2   12.13   0.22  87.65      1.0      46.60      20.34   \n1             71.2   21.09   4.42  74.49      3.0      15.11       5.22   \n2             78.1    3.22   0.25  96.53      1.0      17.14       4.61   \n3            259.5   10.00  15.00  75.00      2.0      22.46       3.27   \n4            497.2    2.22   0.00  97.78      3.0       8.71       6.25   \n\n   Agriculture  Industry  Service  \n0        0.380     0.240    0.380  \n1        0.232     0.188    0.579  \n2        0.101     0.600    0.298  \n3          NaN       NaN      NaN  \n4          NaN       NaN      NaN  ",
      "text/html": "<div>\n<style scoped>\n    .dataframe tbody tr th:only-of-type {\n        vertical-align: middle;\n    }\n\n    .dataframe tbody tr th {\n        vertical-align: top;\n    }\n\n    .dataframe thead th {\n        text-align: right;\n    }\n</style>\n<table border=\"1\" class=\"dataframe\">\n  <thead>\n    <tr style=\"text-align: right;\">\n      <th></th>\n      <th>Country</th>\n      <th>Region</th>\n      <th>Population</th>\n      <th>Area</th>\n      <th>Pop_density</th>\n      <th>Coastline_ratio</th>\n      <th>Net_migration</th>\n      <th>Infant_mortality</th>\n      <th>GDP</th>\n      <th>Literacy</th>\n      <th>Phones_per_1000</th>\n      <th>Arable</th>\n      <th>Crops</th>\n      <th>Other</th>\n      <th>Climate</th>\n      <th>Birthrate</th>\n      <th>Deathrate</th>\n      <th>Agriculture</th>\n      <th>Industry</th>\n      <th>Service</th>\n    </tr>\n  </thead>\n  <tbody>\n    <tr>\n      <th>0</th>\n      <td>Afghanistan</td>\n      <td>ASIA (EX. NEAR EAST)</td>\n      <td>31056997</td>\n      <td>647500</td>\n      <td>48.0</td>\n      <td>0.00</td>\n      <td>23.06</td>\n      <td>163.07</td>\n      <td>700.0</td>\n      <td>36.0</td>\n      <td>3.2</td>\n      <td>12.13</td>\n      <td>0.22</td>\n      <td>87.65</td>\n      <td>1.0</td>\n      <td>46.60</td>\n      <td>20.34</td>\n      <td>0.380</td>\n      <td>0.240</td>\n      <td>0.380</td>\n    </tr>\n    <tr>\n      <th>1</th>\n      <td>Albania</td>\n      <td>EASTERN EUROPE</td>\n      <td>3581655</td>\n      <td>28748</td>\n      <td>124.6</td>\n      <td>1.26</td>\n      <td>-4.93</td>\n      <td>21.52</td>\n      <td>4500.0</td>\n      <td>86.5</td>\n      <td>71.2</td>\n      <td>21.09</td>\n      <td>4.42</td>\n      <td>74.49</td>\n      <td>3.0</td>\n      <td>15.11</td>\n      <td>5.22</td>\n      <td>0.232</td>\n      <td>0.188</td>\n      <td>0.579</td>\n    </tr>\n    <tr>\n      <th>2</th>\n      <td>Algeria</td>\n      <td>NORTHERN AFRICA</td>\n      <td>32930091</td>\n      <td>2381740</td>\n      <td>13.8</td>\n      <td>0.04</td>\n      <td>-0.39</td>\n      <td>31.00</td>\n      <td>6000.0</td>\n      <td>70.0</td>\n      <td>78.1</td>\n      <td>3.22</td>\n      <td>0.25</td>\n      <td>96.53</td>\n      <td>1.0</td>\n      <td>17.14</td>\n      <td>4.61</td>\n      <td>0.101</td>\n      <td>0.600</td>\n      <td>0.298</td>\n    </tr>\n    <tr>\n      <th>3</th>\n      <td>American Samoa</td>\n      <td>OCEANIA</td>\n      <td>57794</td>\n      <td>199</td>\n      <td>290.4</td>\n      <td>58.29</td>\n      <td>-20.71</td>\n      <td>9.27</td>\n      <td>8000.0</td>\n      <td>97.0</td>\n      <td>259.5</td>\n      <td>10.00</td>\n      <td>15.00</td>\n      <td>75.00</td>\n      <td>2.0</td>\n      <td>22.46</td>\n      <td>3.27</td>\n      <td>NaN</td>\n      <td>NaN</td>\n      <td>NaN</td>\n    </tr>\n    <tr>\n      <th>4</th>\n      <td>Andorra</td>\n      <td>WESTERN EUROPE</td>\n      <td>71201</td>\n      <td>468</td>\n      <td>152.1</td>\n      <td>0.00</td>\n      <td>6.60</td>\n      <td>4.05</td>\n      <td>19000.0</td>\n      <td>100.0</td>\n      <td>497.2</td>\n      <td>2.22</td>\n      <td>0.00</td>\n      <td>97.78</td>\n      <td>3.0</td>\n      <td>8.71</td>\n      <td>6.25</td>\n      <td>NaN</td>\n      <td>NaN</td>\n      <td>NaN</td>\n    </tr>\n  </tbody>\n</table>\n</div>"
     },
     "metadata": {},
     "execution_count": 27
    }
   ],
   "source": [
    "# Ajustando colunas Country e Region\n",
    "\n",
    "countries[['Country', 'Region']] = countries[['Country', 'Region']].apply(lambda column: column.str.strip()) \n",
    "\n",
    "countries.head()"
   ]
  },
  {
   "cell_type": "markdown",
   "metadata": {},
   "source": [
    "## Questão 1\n",
    "\n",
    "Quais são as regiões (variável `Region`) presentes no _data set_? Retorne uma lista com as regiões únicas do _data set_ com os espaços à frente e atrás da string removidos (mas mantenha pontuação: ponto, hífen etc) e ordenadas em ordem alfabética."
   ]
  },
  {
   "cell_type": "code",
   "execution_count": 7,
   "metadata": {},
   "outputs": [
    {
     "output_type": "execute_result",
     "data": {
      "text/plain": "['ASIA (EX. NEAR EAST)',\n 'BALTICS',\n 'C.W. OF IND. STATES',\n 'EASTERN EUROPE',\n 'LATIN AMER. & CARIB',\n 'NEAR EAST',\n 'NORTHERN AFRICA',\n 'NORTHERN AMERICA',\n 'OCEANIA',\n 'SUB-SAHARAN AFRICA',\n 'WESTERN EUROPE']"
     },
     "metadata": {},
     "execution_count": 7
    }
   ],
   "source": [
    "def q1():\n",
    "    result_1 = sorted(list(countries['Region'].value_counts().index))\n",
    "    return result_1\n",
    "q1()"
   ]
  },
  {
   "cell_type": "markdown",
   "metadata": {},
   "source": [
    "## Questão 2\n",
    "\n",
    "Discretizando a variável `Pop_density` em 10 intervalos com `KBinsDiscretizer`, seguindo o encode `ordinal` e estratégia `quantile`, quantos países se encontram acima do 90º percentil? Responda como um único escalar inteiro."
   ]
  },
  {
   "cell_type": "code",
   "execution_count": 10,
   "metadata": {},
   "outputs": [
    {
     "output_type": "execute_result",
     "data": {
      "text/plain": "23"
     },
     "metadata": {},
     "execution_count": 10
    }
   ],
   "source": [
    "def q2():\n",
    "    discretizer = KBinsDiscretizer(n_bins=10, encode='ordinal', strategy='quantile')\n",
    "    df_pop_density = countries[['Country', 'Pop_density']]\n",
    "    df_pop_density['Pop_density']= discretizer.fit_transform(df_pop_density[['Pop_density']])\n",
    "    result_2 = df_pop_density[df_pop_density['Pop_density'] == 9].shape[0]\n",
    "    return int(result_2)\n",
    "q2()"
   ]
  },
  {
   "cell_type": "markdown",
   "metadata": {},
   "source": [
    "# Questão 3\n",
    "\n",
    "Se codificarmos as variáveis `Region` e `Climate` usando _one-hot encoding_, quantos novos atributos seriam criados? Responda como um único escalar."
   ]
  },
  {
   "cell_type": "code",
   "execution_count": 11,
   "metadata": {},
   "outputs": [
    {
     "output_type": "execute_result",
     "data": {
      "text/plain": "17"
     },
     "metadata": {},
     "execution_count": 11
    }
   ],
   "source": [
    "def q3():\n",
    "    unique_values = countries[['Region', 'Climate']].nunique()\n",
    "    result_3 = sum(unique_values)\n",
    "    return result_3\n",
    "q3()"
   ]
  },
  {
   "cell_type": "markdown",
   "metadata": {},
   "source": [
    "## Questão 4\n",
    "\n",
    "Aplique o seguinte _pipeline_:\n",
    "\n",
    "1. Preencha as variáveis do tipo `int64` e `float64` com suas respectivas medianas.\n",
    "2. Padronize essas variáveis.\n",
    "\n",
    "Após aplicado o _pipeline_ descrito acima aos dados (somente nas variáveis dos tipos especificados), aplique o mesmo _pipeline_ (ou `ColumnTransformer`) ao dado abaixo. Qual o valor da variável `Arable` após o _pipeline_? Responda como um único float arredondado para três casas decimais."
   ]
  },
  {
   "cell_type": "code",
   "execution_count": 12,
   "metadata": {},
   "outputs": [
    {
     "output_type": "execute_result",
     "data": {
      "text/plain": "20"
     },
     "metadata": {},
     "execution_count": 12
    }
   ],
   "source": [
    "\n",
    "\n",
    "test_country = [\n",
    "    'Test Country', 'NEAR EAST', -0.19032480757326514,\n",
    "    -0.3232636124824411, -0.04421734470810142, -0.27528113360605316,\n",
    "    0.13255850810281325, -0.8054845935643491, 1.0119784924248225,\n",
    "    0.6189182532646624, 1.0074863283776458, 0.20239896852403538,\n",
    "    -0.043678728558593366, -0.13929748680369286, 1.3163604645710438,\n",
    "    -0.3699637766938669, -0.6149300604558857, -0.854369594993175,\n",
    "    0.263445277972641, 0.5712416961268142\n",
    "]\n",
    "\n",
    "len(test_country)"
   ]
  },
  {
   "cell_type": "code",
   "execution_count": 23,
   "metadata": {},
   "outputs": [
    {
     "output_type": "execute_result",
     "data": {
      "text/plain": "array([-0.24432501, -0.33489095, -0.22884735, -0.29726002,  0.0193577 ,\n       -1.0283662 , -0.96628361, -4.17888867, -1.03329473, -1.04483156,\n       -0.55231618, -5.07780086, -1.17912718, -2.01625005, -1.97963876,\n       -6.86380919, -0.13966246,  0.0360151 ])"
     },
     "metadata": {},
     "execution_count": 23
    }
   ],
   "source": [
    "#Using ColumnTransformer\n",
    "\n",
    "col_transformer = ColumnTransformer([\n",
    "                    (\"imputer\", SimpleImputer(strategy = \"median\"),make_column_selector(dtype_include =                                     np.number)),\n",
    "                    (\"standardizer\", StandardScaler(),make_column_selector(dtype_include = np.number))\n",
    "                ])\n",
    "pipeline_CT = col_transformer.fit(countries) # fitting the pipeline with the \"training\" dataset\n",
    "test_country_df = pd.DataFrame([test_country], columns = countries.columns)\n",
    "arable_loc = test_country_df.columns.get_loc('Arable')\n",
    "result_4 = pipeline_CT.transform(test_country_df) #it returns the original data + the transformed data (concatenated)\n",
    "result_4[0][18:]"
   ]
  },
  {
   "cell_type": "code",
   "execution_count": 14,
   "metadata": {},
   "outputs": [
    {
     "output_type": "execute_result",
     "data": {
      "text/plain": "array([-0.24432501, -0.33489095, -0.22884735, -0.29726002,  0.01959086,\n       -1.02861728, -0.96623348, -4.35427242, -1.03720972, -1.04685743,\n       -0.55058149, -5.10112169, -1.21812201, -2.02455164, -1.99092137,\n       -7.04915046, -0.13915481,  0.03490335])"
     },
     "metadata": {},
     "execution_count": 14
    }
   ],
   "source": [
    "#Using Pipeline\n",
    "\n",
    "countries_num = countries.select_dtypes(exclude = 'object') #select only non object (numeric) columns types\n",
    "num_pipeline = Pipeline([\n",
    "                (\"imputer\", SimpleImputer(strategy = \"median\")),                       (\"standardizer\", StandardScaler())\n",
    "                ]) #numeric pipeline\n",
    "pipeline_fit = num_pipeline.fit(countries_num)\n",
    "arable_loc = countries_num.columns.get_loc('Arable') #get arable index\n",
    "test_country_df = pd.DataFrame([test_country], columns = countries.columns)\n",
    "test_country_transformed = pipeline_fit.transform(test_country_df.select_dtypes(exclude = 'object'))\n",
    "test_country_transformed[0]"
   ]
  },
  {
   "cell_type": "markdown",
   "metadata": {},
   "source": [
    "There were some little differences in the methods above."
   ]
  },
  {
   "cell_type": "code",
   "execution_count": 68,
   "metadata": {},
   "outputs": [
    {
     "output_type": "execute_result",
     "data": {
      "text/plain": "-1.047"
     },
     "metadata": {},
     "execution_count": 68
    }
   ],
   "source": [
    "def q4():\n",
    "    countries_num = countries.select_dtypes(exclude = 'object') #select only non object (numeric) columns types\n",
    "    num_pipeline = Pipeline([\n",
    "        (\"imputer\", SimpleImputer(strategy = \"median\")),                       (\"standardizer\", StandardScaler())\n",
    "        ]) #numeric pipeline\n",
    "    pipeline_fit = num_pipeline.fit(countries_num)\n",
    "    arable_loc = countries_num.columns.get_loc('Arable') #get arable index\n",
    "    test_country_df = pd.DataFrame([test_country], columns = countries.columns)\n",
    "    test_country_transformed = pipeline_fit.transform(test_country_df.select_dtypes(exclude = 'object'))[0][arable_loc]\n",
    "    result_4 = round(test_country_transformed,3)\n",
    "    return float(result_4)\n",
    "q4()"
   ]
  },
  {
   "cell_type": "markdown",
   "metadata": {},
   "source": [
    "## Questão 5\n",
    "\n",
    "Descubra o número de _outliers_ da variável `Net_migration` segundo o método do _boxplot_, ou seja, usando a lógica:\n",
    "\n",
    "$$x \\notin [Q1 - 1.5 \\times \\text{IQR}, Q3 + 1.5 \\times \\text{IQR}] \\Rightarrow x \\text{ é outlier}$$\n",
    "\n",
    "que se encontram no grupo inferior e no grupo superior.\n",
    "\n",
    "Você deveria remover da análise as observações consideradas _outliers_ segundo esse método? Responda como uma tupla de três elementos `(outliers_abaixo, outliers_acima, removeria?)` ((int, int, bool))."
   ]
  },
  {
   "cell_type": "code",
   "execution_count": 35,
   "metadata": {},
   "outputs": [
    {
     "output_type": "execute_result",
     "data": {
      "text/plain": "              Country               Region  Population   Area  Pop_density  \\\n1             Albania       EASTERN EUROPE     3581655  28748        124.6   \n3      American Samoa              OCEANIA       57794    199        290.4   \n7   Antigua & Barbuda  LATIN AMER. & CARIB       69108    443        156.0   \n9             Armenia  C.W. OF IND. STATES     2976372  29800         99.9   \n13         Azerbaijan  C.W. OF IND. STATES     7961619  86600         91.9   \n\n    Coastline_ratio  Net_migration  Infant_mortality      GDP  Literacy  \\\n1              1.26          -4.93             21.52   4500.0      86.5   \n3             58.29         -20.71              9.27   8000.0      97.0   \n7             34.54          -6.15             19.46  11000.0      89.0   \n9              0.00          -6.47             23.28   3500.0      98.6   \n13             0.00          -4.90             81.74   3400.0      97.0   \n\n    Phones_per_1000  Arable  Crops  Other  Climate  Birthrate  Deathrate  \\\n1              71.2   21.09   4.42  74.49      3.0      15.11       5.22   \n3             259.5   10.00  15.00  75.00      2.0      22.46       3.27   \n7             549.9   18.18   4.55  77.27      2.0      16.93       5.37   \n9             195.7   17.55   2.30  80.15      4.0      12.07       8.23   \n13            137.1   19.63   2.71  77.66      1.0      20.74       9.75   \n\n    Agriculture  Industry  Service  \n1         0.232     0.188    0.579  \n3           NaN       NaN      NaN  \n7         0.038     0.220    0.743  \n9         0.239     0.343    0.418  \n13        0.141     0.457    0.402  ",
      "text/html": "<div>\n<style scoped>\n    .dataframe tbody tr th:only-of-type {\n        vertical-align: middle;\n    }\n\n    .dataframe tbody tr th {\n        vertical-align: top;\n    }\n\n    .dataframe thead th {\n        text-align: right;\n    }\n</style>\n<table border=\"1\" class=\"dataframe\">\n  <thead>\n    <tr style=\"text-align: right;\">\n      <th></th>\n      <th>Country</th>\n      <th>Region</th>\n      <th>Population</th>\n      <th>Area</th>\n      <th>Pop_density</th>\n      <th>Coastline_ratio</th>\n      <th>Net_migration</th>\n      <th>Infant_mortality</th>\n      <th>GDP</th>\n      <th>Literacy</th>\n      <th>Phones_per_1000</th>\n      <th>Arable</th>\n      <th>Crops</th>\n      <th>Other</th>\n      <th>Climate</th>\n      <th>Birthrate</th>\n      <th>Deathrate</th>\n      <th>Agriculture</th>\n      <th>Industry</th>\n      <th>Service</th>\n    </tr>\n  </thead>\n  <tbody>\n    <tr>\n      <th>1</th>\n      <td>Albania</td>\n      <td>EASTERN EUROPE</td>\n      <td>3581655</td>\n      <td>28748</td>\n      <td>124.6</td>\n      <td>1.26</td>\n      <td>-4.93</td>\n      <td>21.52</td>\n      <td>4500.0</td>\n      <td>86.5</td>\n      <td>71.2</td>\n      <td>21.09</td>\n      <td>4.42</td>\n      <td>74.49</td>\n      <td>3.0</td>\n      <td>15.11</td>\n      <td>5.22</td>\n      <td>0.232</td>\n      <td>0.188</td>\n      <td>0.579</td>\n    </tr>\n    <tr>\n      <th>3</th>\n      <td>American Samoa</td>\n      <td>OCEANIA</td>\n      <td>57794</td>\n      <td>199</td>\n      <td>290.4</td>\n      <td>58.29</td>\n      <td>-20.71</td>\n      <td>9.27</td>\n      <td>8000.0</td>\n      <td>97.0</td>\n      <td>259.5</td>\n      <td>10.00</td>\n      <td>15.00</td>\n      <td>75.00</td>\n      <td>2.0</td>\n      <td>22.46</td>\n      <td>3.27</td>\n      <td>NaN</td>\n      <td>NaN</td>\n      <td>NaN</td>\n    </tr>\n    <tr>\n      <th>7</th>\n      <td>Antigua &amp; Barbuda</td>\n      <td>LATIN AMER. &amp; CARIB</td>\n      <td>69108</td>\n      <td>443</td>\n      <td>156.0</td>\n      <td>34.54</td>\n      <td>-6.15</td>\n      <td>19.46</td>\n      <td>11000.0</td>\n      <td>89.0</td>\n      <td>549.9</td>\n      <td>18.18</td>\n      <td>4.55</td>\n      <td>77.27</td>\n      <td>2.0</td>\n      <td>16.93</td>\n      <td>5.37</td>\n      <td>0.038</td>\n      <td>0.220</td>\n      <td>0.743</td>\n    </tr>\n    <tr>\n      <th>9</th>\n      <td>Armenia</td>\n      <td>C.W. OF IND. STATES</td>\n      <td>2976372</td>\n      <td>29800</td>\n      <td>99.9</td>\n      <td>0.00</td>\n      <td>-6.47</td>\n      <td>23.28</td>\n      <td>3500.0</td>\n      <td>98.6</td>\n      <td>195.7</td>\n      <td>17.55</td>\n      <td>2.30</td>\n      <td>80.15</td>\n      <td>4.0</td>\n      <td>12.07</td>\n      <td>8.23</td>\n      <td>0.239</td>\n      <td>0.343</td>\n      <td>0.418</td>\n    </tr>\n    <tr>\n      <th>13</th>\n      <td>Azerbaijan</td>\n      <td>C.W. OF IND. STATES</td>\n      <td>7961619</td>\n      <td>86600</td>\n      <td>91.9</td>\n      <td>0.00</td>\n      <td>-4.90</td>\n      <td>81.74</td>\n      <td>3400.0</td>\n      <td>97.0</td>\n      <td>137.1</td>\n      <td>19.63</td>\n      <td>2.71</td>\n      <td>77.66</td>\n      <td>1.0</td>\n      <td>20.74</td>\n      <td>9.75</td>\n      <td>0.141</td>\n      <td>0.457</td>\n      <td>0.402</td>\n    </tr>\n  </tbody>\n</table>\n</div>"
     },
     "metadata": {},
     "execution_count": 35
    }
   ],
   "source": [
    "net_migration =countries['Net_migration']\n",
    "quartiles = net_migration.quantile(q = [0.25, 0.50, 0.75]).values\n",
    "iqr = quartiles[2] - quartiles[0]\n",
    "migration_outliers = [net_migration[net_migration < (quartiles[0] - 1.5 * iqr)], net_migration[net_migration > (quartiles[2] + 1.5 * iqr)]]\n",
    "qt_outliers = [outliers.size for outliers in migration_outliers]\n",
    "remove = False\n",
    "sum(qt_outliers)/net_migration.size\n",
    "countries[countries['Net_migration'].isin(migration_outliers[0])].head()\n"
   ]
  },
  {
   "cell_type": "markdown",
   "metadata": {},
   "source": [
    "There is 22% of outliers (using boxplot method). However, they are all unique values (each sample representing one country) and for many reasons and possible analyses, these outliers can be very useful and important. Say we want to understand why there is such a big negative net migration for a specific country and hence find its cause (economic and social problems, war, etc)"
   ]
  },
  {
   "cell_type": "code",
   "execution_count": 17,
   "metadata": {},
   "outputs": [
    {
     "output_type": "execute_result",
     "data": {
      "text/plain": "(24, 26, False)"
     },
     "metadata": {},
     "execution_count": 17
    }
   ],
   "source": [
    "def q5():\n",
    "    net_migration =countries['Net_migration']\n",
    "    quartiles = net_migration.quantile(q = [0.25, 0.50, 0.75]).values\n",
    "    iqr = quartiles[2] - quartiles[0]\n",
    "    migration_outliers = [net_migration[net_migration < (quartiles[0] - 1.5 * iqr)],                net_migration[net_migration > (quartiles[2] + 1.5 * iqr)]]\n",
    "    qt_outliers = [outliers.size for outliers in migration_outliers]\n",
    "    remove = False\n",
    "    qt_outliers.append(remove)\n",
    "    result_5 = qt_outliers\n",
    "    return tuple(result_5)\n",
    "q5()"
   ]
  },
  {
   "cell_type": "markdown",
   "metadata": {},
   "source": [
    "## Questão 6\n",
    "Para as questões 6 e 7 utilize a biblioteca `fetch_20newsgroups` de datasets de test do `sklearn`\n",
    "\n",
    "Considere carregar as seguintes categorias e o dataset `newsgroups`:\n",
    "\n",
    "```\n",
    "categories = ['sci.electronics', 'comp.graphics', 'rec.motorcycles']\n",
    "newsgroup = fetch_20newsgroups(subset=\"train\", categories=categories, shuffle=True, random_state=42)\n",
    "```\n",
    "\n",
    "\n",
    "Aplique `CountVectorizer` ao _data set_ `newsgroups` e descubra o número de vezes que a palavra _phone_ aparece no corpus. Responda como um único escalar."
   ]
  },
  {
   "cell_type": "code",
   "execution_count": 41,
   "metadata": {
    "tags": [
     "outputPrepend"
    ]
   },
   "outputs": [
    {
     "output_type": "stream",
     "name": "stdout",
     "text": "From: todd@psgi.UUCP (Todd Doolittle)\nSubject: Re:  Motorcycle Courier (Summer Job)\nDistribution: world\nOrganization: Not an Organization\nLines: 37\n\nIn article <1poj23INN9k@west.West.Sun.COM> gaijin@ale.Japan.Sun.COM (John Little - Nihon Sun Repair Depot) writes:\n>In article <8108.97.uupcb@compdyn.questor.org> \\\n>ryan_cousineau@compdyn.questor.org (Ryan Cousineau) writes:\n>%\n>% I think I've found the ultimate summer job: It's dangerous, involves\n>% motorcycles, requires high speeds in traffic, and it pays well.\n>% \n>% So my question is as follows: Has anyone here done this sort of work?\n>% What was your experience?\n>% \n[Stuff deleted]\n>   Get a -good- \"AtoZ\" type indexed streetmap for all of the areas  you're\n>   likely to work.   Always carry  plenty of black-plastic  bin liners  to\n\nCheck with the local fire department.  My buddy is a firefighter and they\nhave these small map books which are Amazing!  They are compact, easy to\nuse (no folding).  They even have a cross reference section in which you\nmatch your current cross streets with the cross streets you want to go to\nand it details the quickest route.  They gave me an extra they had laying\naround.  But then again I know all those people I'm not really sure if they\nare supposed to give/sell them. (The police may also have something\nsimilar).\n \n>-- \n>   ------------------------------------------------------------------------\n>  | John Little  - gaijin@Japan.Sun.COM  - Sun Microsystems. Atsugi, Japan | \n>   ------------------------------------------------------------------------\n\n--\n\n--------------------------------------------------------------------------\n  ..vela.acs.oakland.edu!psgi!todd  | '88 RM125 The only bike sold without\n  Todd Doolittle                    |           a red-line.         \n  Troy, MI                          | '88 EX500                      \n  DoD #0832                         |                           \n--------------------------------------------------------------------------\n\n\n"
    }
   ],
   "source": [
    "categories = ['sci.electronics', 'comp.graphics', 'rec.motorcycles']\n",
    "newsgroup = fetch_20newsgroups(subset=\"train\", categories=categories, shuffle=True, random_state=42) # create a dictionary with the following keys: target (numpy array of length n_samples, referencing each sample to its filename), filenames, data (list of the n samples), DESCR and target_names. For instance:\n",
    "print(newsgroup.data[3])\n"
   ]
  },
  {
   "cell_type": "code",
   "execution_count": 58,
   "metadata": {},
   "outputs": [
    {
     "output_type": "execute_result",
     "data": {
      "text/plain": "   from  rubin  cis  ohio  state  edu  daniel  subject  re  what  ...  lddc  \\\n0     0      0    0     0      0    0       0        0   0     0  ...     0   \n1     0      0    0     0      0    0       0        0   0     0  ...     0   \n2     0      0    0     0      0    0       0        0   0     0  ...     0   \n3     0      0    0     0      0    0       0        0   0     0  ...     0   \n4     1      0    0     0      0    0       0        0   0     0  ...     0   \n\n   docklands  litigious  securities  5656  4902  po5  163122  20454  cbfsb  \n0          0          0           0     0     0    0       0      0      0  \n1          0          0           0     0     0    0       0      0      0  \n2          0          0           0     0     0    0       0      0      0  \n3          0          0           0     0     0    0       0      0      0  \n4          0          0           0     0     0    0       0      0      0  \n\n[5 rows x 27335 columns]",
      "text/html": "<div>\n<style scoped>\n    .dataframe tbody tr th:only-of-type {\n        vertical-align: middle;\n    }\n\n    .dataframe tbody tr th {\n        vertical-align: top;\n    }\n\n    .dataframe thead th {\n        text-align: right;\n    }\n</style>\n<table border=\"1\" class=\"dataframe\">\n  <thead>\n    <tr style=\"text-align: right;\">\n      <th></th>\n      <th>from</th>\n      <th>rubin</th>\n      <th>cis</th>\n      <th>ohio</th>\n      <th>state</th>\n      <th>edu</th>\n      <th>daniel</th>\n      <th>subject</th>\n      <th>re</th>\n      <th>what</th>\n      <th>...</th>\n      <th>lddc</th>\n      <th>docklands</th>\n      <th>litigious</th>\n      <th>securities</th>\n      <th>5656</th>\n      <th>4902</th>\n      <th>po5</th>\n      <th>163122</th>\n      <th>20454</th>\n      <th>cbfsb</th>\n    </tr>\n  </thead>\n  <tbody>\n    <tr>\n      <th>0</th>\n      <td>0</td>\n      <td>0</td>\n      <td>0</td>\n      <td>0</td>\n      <td>0</td>\n      <td>0</td>\n      <td>0</td>\n      <td>0</td>\n      <td>0</td>\n      <td>0</td>\n      <td>...</td>\n      <td>0</td>\n      <td>0</td>\n      <td>0</td>\n      <td>0</td>\n      <td>0</td>\n      <td>0</td>\n      <td>0</td>\n      <td>0</td>\n      <td>0</td>\n      <td>0</td>\n    </tr>\n    <tr>\n      <th>1</th>\n      <td>0</td>\n      <td>0</td>\n      <td>0</td>\n      <td>0</td>\n      <td>0</td>\n      <td>0</td>\n      <td>0</td>\n      <td>0</td>\n      <td>0</td>\n      <td>0</td>\n      <td>...</td>\n      <td>0</td>\n      <td>0</td>\n      <td>0</td>\n      <td>0</td>\n      <td>0</td>\n      <td>0</td>\n      <td>0</td>\n      <td>0</td>\n      <td>0</td>\n      <td>0</td>\n    </tr>\n    <tr>\n      <th>2</th>\n      <td>0</td>\n      <td>0</td>\n      <td>0</td>\n      <td>0</td>\n      <td>0</td>\n      <td>0</td>\n      <td>0</td>\n      <td>0</td>\n      <td>0</td>\n      <td>0</td>\n      <td>...</td>\n      <td>0</td>\n      <td>0</td>\n      <td>0</td>\n      <td>0</td>\n      <td>0</td>\n      <td>0</td>\n      <td>0</td>\n      <td>0</td>\n      <td>0</td>\n      <td>0</td>\n    </tr>\n    <tr>\n      <th>3</th>\n      <td>0</td>\n      <td>0</td>\n      <td>0</td>\n      <td>0</td>\n      <td>0</td>\n      <td>0</td>\n      <td>0</td>\n      <td>0</td>\n      <td>0</td>\n      <td>0</td>\n      <td>...</td>\n      <td>0</td>\n      <td>0</td>\n      <td>0</td>\n      <td>0</td>\n      <td>0</td>\n      <td>0</td>\n      <td>0</td>\n      <td>0</td>\n      <td>0</td>\n      <td>0</td>\n    </tr>\n    <tr>\n      <th>4</th>\n      <td>1</td>\n      <td>0</td>\n      <td>0</td>\n      <td>0</td>\n      <td>0</td>\n      <td>0</td>\n      <td>0</td>\n      <td>0</td>\n      <td>0</td>\n      <td>0</td>\n      <td>...</td>\n      <td>0</td>\n      <td>0</td>\n      <td>0</td>\n      <td>0</td>\n      <td>0</td>\n      <td>0</td>\n      <td>0</td>\n      <td>0</td>\n      <td>0</td>\n      <td>0</td>\n    </tr>\n  </tbody>\n</table>\n<p>5 rows × 27335 columns</p>\n</div>"
     },
     "metadata": {},
     "execution_count": 58
    }
   ],
   "source": [
    "vectorizer = CountVectorizer()\n",
    "newsgroup_vectorized = vectorizer.fit_transform(newsgroup.data) \n",
    "phone_index = vectorizer.vocabulary_.get('phone')\n",
    "count_phone_words = [sample[phone_index] for sample in newsgroup_vectorized.toarray()] \n",
    "#vectorization returns a sparse matrix to array, with word labeling frequency for each sample\n",
    "qty_phone_words = sum(count_phone_words)\n",
    "words_df = pd.DataFrame(newsgroup_vectorized.toarray(), columns = list(vectorizer.vocabulary_.keys()))\n",
    "words_df.head()"
   ]
  },
  {
   "cell_type": "code",
   "execution_count": 19,
   "metadata": {},
   "outputs": [],
   "source": [
    "categories = ['sci.electronics', 'comp.graphics', 'rec.motorcycles']\n",
    "newsgroup = fetch_20newsgroups(subset=\"train\", categories=categories, shuffle=True,                    random_state=42)"
   ]
  },
  {
   "cell_type": "code",
   "execution_count": 20,
   "metadata": {},
   "outputs": [
    {
     "output_type": "execute_result",
     "data": {
      "text/plain": "213"
     },
     "metadata": {},
     "execution_count": 20
    }
   ],
   "source": [
    "def q6():\n",
    "    vectorizer = CountVectorizer()\n",
    "    newsgroup_vectorized = vectorizer.fit_transform(newsgroup.data)\n",
    "    phone_index = vectorizer.vocabulary_.get('phone')\n",
    "    count_phone_words = [sample[phone_index] for sample in newsgroup_vectorized.toarray()] \n",
    "    result_6 = sum(count_phone_words)\n",
    "    return result_6\n",
    "q6()"
   ]
  },
  {
   "cell_type": "markdown",
   "metadata": {},
   "source": [
    "## Questão 7\n",
    "\n",
    "Aplique `TfidfVectorizer` ao _data set_ `newsgroups` e descubra o TF-IDF da palavra _phone_. Responda como um único escalar arredondado para três casas decimais."
   ]
  },
  {
   "cell_type": "markdown",
   "metadata": {},
   "source": [
    "For each document, I have a $tf-idf$ vector with the $tf-idf_{\\text{normalized}}$ value of each term in that document."
   ]
  },
  {
   "cell_type": "code",
   "execution_count": 22,
   "metadata": {},
   "outputs": [
    {
     "output_type": "execute_result",
     "data": {
      "text/plain": "8.888"
     },
     "metadata": {},
     "execution_count": 22
    }
   ],
   "source": [
    "def q7():\n",
    "    tfidf_vectorizer = TfidfVectorizer()\n",
    "    newsgroups_tfidf_vect = tfidf_vectorizer.fit_transform(newsgroup.data)\n",
    "    phone_index = tfidf_vectorizer.vocabulary_.get('phone')\n",
    "    phone_tfidf_values = [sample[phone_index] for sample in newsgroups_tfidf_vect.toarray()]\n",
    "    result_7 = round(sum(phone_tfidf_values), 3)\n",
    "    return result_7\n",
    "q7()"
   ]
  }
 ],
 "metadata": {
  "kernelspec": {
   "display_name": "Python 3.7.7 64-bit ('aceleradev': conda)",
   "language": "python",
   "name": "python37764bitaceleradevconda8137e2e5b6d349f88e3058fae1dae13a"
  },
  "language_info": {
   "codemirror_mode": {
    "name": "ipython",
    "version": 3
   },
   "file_extension": ".py",
   "mimetype": "text/x-python",
   "name": "python",
   "nbconvert_exporter": "python",
   "pygments_lexer": "ipython3",
   "version": "3.7.7-final"
  }
 },
 "nbformat": 4,
 "nbformat_minor": 2
}