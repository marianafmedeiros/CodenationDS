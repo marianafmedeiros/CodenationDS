{
 "cells": [
  {
   "cell_type": "markdown",
   "metadata": {},
   "source": [
    "# Desafio 5\n",
    "\n",
    "Neste desafio, vamos praticar sobre redução de dimensionalidade com PCA e seleção de variáveis com RFE. Utilizaremos o _data set_ [Fifa 2019](https://www.kaggle.com/karangadiya/fifa19), contendo originalmente 89 variáveis de mais de 18 mil jogadores do _game_ FIFA 2019.\n",
    "\n",
    "> Obs.: Por favor, não modifique o nome das funções de resposta."
   ]
  },
  {
   "cell_type": "markdown",
   "metadata": {},
   "source": [
    "## _Setup_ geral"
   ]
  },
  {
   "cell_type": "code",
   "execution_count": 11,
   "metadata": {},
   "outputs": [],
   "source": [
    "from math import sqrt\n",
    "\n",
    "import pandas as pd\n",
    "import matplotlib.pyplot as plt\n",
    "import numpy as np\n",
    "import scipy.stats as sct\n",
    "import seaborn as sns\n",
    "import statsmodels.api as sm\n",
    "import statsmodels.stats as st\n",
    "from sklearn.decomposition import PCA\n",
    "from sklearn.feature_selection import RFE\n",
    "from sklearn.linear_model import LinearRegression\n",
    "\n",
    "from loguru import logger"
   ]
  },
  {
   "cell_type": "code",
   "execution_count": 2,
   "metadata": {},
   "outputs": [],
   "source": [
    "# Algumas configurações para o matplotlib.\n",
    "#%matplotlib inline\n",
    "\n",
    "from IPython.core.pylabtools import figsize\n",
    "\n",
    "\n",
    "figsize(12, 8)\n",
    "\n",
    "sns.set()"
   ]
  },
  {
   "cell_type": "code",
   "execution_count": 3,
   "metadata": {
    "scrolled": false
   },
   "outputs": [],
   "source": [
    "fifa = pd.read_csv(\"fifa.csv\")"
   ]
  },
  {
   "cell_type": "code",
   "execution_count": 4,
   "metadata": {},
   "outputs": [],
   "source": [
    "columns_to_drop = [\"Unnamed: 0\", \"ID\", \"Name\", \"Photo\", \"Nationality\", \"Flag\",\n",
    "                   \"Club\", \"Club Logo\", \"Value\", \"Wage\", \"Special\", \"Preferred Foot\",\n",
    "                   \"International Reputation\", \"Weak Foot\", \"Skill Moves\", \"Work Rate\",\n",
    "                   \"Body Type\", \"Real Face\", \"Position\", \"Jersey Number\", \"Joined\",\n",
    "                   \"Loaned From\", \"Contract Valid Until\", \"Height\", \"Weight\", \"LS\",\n",
    "                   \"ST\", \"RS\", \"LW\", \"LF\", \"CF\", \"RF\", \"RW\", \"LAM\", \"CAM\", \"RAM\", \"LM\",\n",
    "                   \"LCM\", \"CM\", \"RCM\", \"RM\", \"LWB\", \"LDM\", \"CDM\", \"RDM\", \"RWB\", \"LB\", \"LCB\",\n",
    "                   \"CB\", \"RCB\", \"RB\", \"Release Clause\"\n",
    "]\n",
    "\n",
    "try:\n",
    "    fifa.drop(columns_to_drop, axis=1, inplace=True)\n",
    "except KeyError:\n",
    "    logger.warning(f\"Columns already dropped\")"
   ]
  },
  {
   "cell_type": "markdown",
   "metadata": {},
   "source": [
    "## Inicia sua análise a partir daqui"
   ]
  },
  {
   "cell_type": "code",
   "execution_count": 56,
   "metadata": {},
   "outputs": [],
   "source": [
    "fifa.dropna(inplace = True)"
   ]
  },
  {
   "cell_type": "markdown",
   "metadata": {},
   "source": [
    "## Questão 1\n",
    "\n",
    "Qual fração da variância consegue ser explicada pelo primeiro componente principal de `fifa`? Responda como um único float (entre 0 e 1) arredondado para três casas decimais."
   ]
  },
  {
   "cell_type": "code",
   "execution_count": 6,
   "metadata": {},
   "outputs": [
    {
     "output_type": "execute_result",
     "data": {
      "text/plain": "0.565"
     },
     "metadata": {},
     "execution_count": 6
    }
   ],
   "source": [
    "def q1(): \n",
    "    pca = PCA().fit(fifa)\n",
    "    evr = pca.explained_variance_ratio_\n",
    "    result_1 = np.round(evr , 3)[0]\n",
    "    return float(result_1)\n",
    "q1()"
   ]
  },
  {
   "cell_type": "markdown",
   "metadata": {},
   "source": [
    "## Questão 2\n",
    "\n",
    "Quantos componentes principais precisamos para explicar 95% da variância total? Responda como un único escalar inteiro."
   ]
  },
  {
   "cell_type": "code",
   "execution_count": 7,
   "metadata": {},
   "outputs": [
    {
     "output_type": "execute_result",
     "data": {
      "text/plain": "15"
     },
     "metadata": {},
     "execution_count": 7
    }
   ],
   "source": [
    "def q2():\n",
    "    pca = PCA(0.95).fit_transform(fifa)\n",
    "    pca_dimension = pca.shape\n",
    "    result_2 = pca_dimension[1] #np.round(evr , 3)[0]\n",
    "    return result_2\n",
    "q2()"
   ]
  },
  {
   "cell_type": "markdown",
   "metadata": {},
   "source": [
    "## Questão 3\n",
    "\n",
    "Qual são as coordenadas (primeiro e segundo componentes principais) do ponto `x` abaixo? O vetor abaixo já está centralizado. Cuidado para __não__ centralizar o vetor novamente (por exemplo, invocando `PCA.transform()` nele). Responda como uma tupla de float arredondados para três casas decimais."
   ]
  },
  {
   "cell_type": "code",
   "execution_count": 8,
   "metadata": {},
   "outputs": [
    {
     "output_type": "execute_result",
     "data": {
      "text/plain": "37"
     },
     "metadata": {},
     "execution_count": 8
    }
   ],
   "source": [
    "x = [0.87747123,  -1.24990363,  -1.3191255, -36.7341814,\n",
    "     -35.55091139, -37.29814417, -28.68671182, -30.90902583,\n",
    "     -42.37100061, -32.17082438, -28.86315326, -22.71193348,\n",
    "     -38.36945867, -20.61407566, -22.72696734, -25.50360703,\n",
    "     2.16339005, -27.96657305, -33.46004736,  -5.08943224,\n",
    "     -30.21994603,   3.68803348, -36.10997302, -30.86899058,\n",
    "     -22.69827634, -37.95847789, -22.40090313, -30.54859849,\n",
    "     -26.64827358, -19.28162344, -34.69783578, -34.6614351,\n",
    "     48.38377664,  47.60840355,  45.76793876,  44.61110193,\n",
    "     49.28911284\n",
    "]\n",
    "\n",
    "len(x)"
   ]
  },
  {
   "cell_type": "code",
   "execution_count": 55,
   "metadata": {},
   "outputs": [
    {
     "output_type": "execute_result",
     "data": {
      "text/plain": "(186.556, -6.592)"
     },
     "metadata": {},
     "execution_count": 55
    }
   ],
   "source": [
    "def q3():\n",
    "    pca = PCA(n_components = 2).fit(fifa)\n",
    "    result_3 = [round(sum(coordinate),3) for coordinate in pca.components_ * x]  \n",
    "    return tuple(result_3)\n",
    "q3()"
   ]
  },
  {
   "cell_type": "code",
   "execution_count": 14,
   "metadata": {},
   "outputs": [
    {
     "output_type": "execute_result",
     "data": {
      "text/plain": "Index(['Age', 'Overall', 'Potential', 'Crossing', 'Finishing',\n       'HeadingAccuracy', 'ShortPassing', 'Volleys', 'Dribbling', 'Curve',\n       'FKAccuracy', 'LongPassing', 'BallControl', 'Acceleration',\n       'SprintSpeed', 'Agility', 'Reactions', 'Balance', 'ShotPower',\n       'Jumping', 'Stamina', 'Strength', 'LongShots', 'Aggression',\n       'Interceptions', 'Positioning', 'Vision', 'Penalties', 'Composure',\n       'Marking', 'StandingTackle', 'SlidingTackle', 'GKDiving', 'GKHandling',\n       'GKKicking', 'GKPositioning', 'GKReflexes'],\n      dtype='object')"
     },
     "metadata": {},
     "execution_count": 14
    }
   ],
   "source": [
    "fifa.columns"
   ]
  },
  {
   "cell_type": "markdown",
   "metadata": {},
   "source": [
    "## Questão 4\n",
    "\n",
    "Realiza RFE com estimador de regressão linear para selecionar cinco variáveis, eliminando uma a uma. Quais são as variáveis selecionadas? Responda como uma lista de nomes de variáveis."
   ]
  },
  {
   "cell_type": "code",
   "execution_count": 45,
   "metadata": {},
   "outputs": [
    {
     "output_type": "execute_result",
     "data": {
      "text/plain": "['Age', 'Potential', 'BallControl', 'Reactions', 'GKReflexes']"
     },
     "metadata": {},
     "execution_count": 45
    }
   ],
   "source": [
    "def q4():\n",
    "    reg = LinearRegression()\n",
    "    rfe = RFE(reg, n_features_to_select= 5)\n",
    "    x_features_train = fifa.drop(columns ='Overall')\n",
    "    y_target_train = fifa['Overall']\n",
    "    rfe.fit(x_features_train, y_target_train)\n",
    "    features_selected = x_features_train.T[rfe.support_]\n",
    "    result_4 = list(features_selected.T.columns)\n",
    "    return result_4\n",
    "q4()"
   ]
  }
 ],
 "metadata": {
  "kernelspec": {
   "display_name": "Python 3.7.7 64-bit ('aceleradev': conda)",
   "language": "python",
   "name": "python37764bitaceleradevconda8137e2e5b6d349f88e3058fae1dae13a"
  },
  "language_info": {
   "codemirror_mode": {
    "name": "ipython",
    "version": 3
   },
   "file_extension": ".py",
   "mimetype": "text/x-python",
   "name": "python",
   "nbconvert_exporter": "python",
   "pygments_lexer": "ipython3",
   "version": "3.7.7-final"
  }
 },
 "nbformat": 4,
 "nbformat_minor": 2
}